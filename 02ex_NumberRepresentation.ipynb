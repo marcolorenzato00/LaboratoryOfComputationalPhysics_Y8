{
 "cells": [
  {
   "cell_type": "markdown",
   "metadata": {},
   "source": [
    "Write a function that converts number representation, bin<->dec<->hex. (Clearly using the corresponding python built-in functions is not fair..)"
   ]
  },
  {
   "cell_type": "code",
   "execution_count": 1,
   "metadata": {},
   "outputs": [
    {
     "name": "stdout",
     "output_type": "stream",
     "text": [
      "1E\n"
     ]
    }
   ],
   "source": [
    "def num_to_list(x):\n",
    "    return [int(c) for c in str(x)]\n",
    "\n",
    "\n",
    "def bin_to_dec(x):\n",
    "    ch = num_to_list(x)\n",
    "    n = 0\n",
    "    for i in range(len(ch)):\n",
    "        if((ch[i]!=0) and (ch[i]!=1)):\n",
    "            print(\"Error: Non binary number\")\n",
    "            return 0\n",
    "        n += ch[i] * (2**(len(ch) - i - 1))\n",
    "    return n\n",
    "        \n",
    "\n",
    "def dec_to_bin(x):\n",
    "    ch = [] \n",
    "    while x != 0:\n",
    "        ch.append(str(x % 2))\n",
    "        x //= 2\n",
    "    return ''.join(ch[::-1])\n",
    "\n",
    "\n",
    "def dec_to_hex(x):\n",
    "    ch = [] \n",
    "    characters = \"0123456789ABCDEF\"\n",
    "    while x != 0:\n",
    "        n = x % 16\n",
    "        ch.append(characters[n])\n",
    "        x //= 16\n",
    "    return ''.join(ch[::-1])\n",
    "\n",
    "    \n",
    "def hex_to_dec(x):\n",
    "    ch = x.upper()\n",
    "    characters = \"0123456789ABCDEF\"\n",
    "    n = 0\n",
    "    value = 0\n",
    "    foundValue = False\n",
    "    for i in range(len(ch)):\n",
    "        for c in range(len(characters)):\n",
    "            if (str(ch[i]) == characters[c]):\n",
    "                value = c\n",
    "                foundValue = True\n",
    "        if (foundValue == False):\n",
    "            print(\"Error: Character not found\")\n",
    "            return 0\n",
    "        else:\n",
    "            foundValue = False\n",
    "            \n",
    "        n += value * 16**(len(ch) - i - 1)\n",
    "    return n\n",
    "    \n",
    "\n",
    "def bin_to_hex(x):\n",
    "    return dec_to_hex(bin_to_dec(x))\n",
    "    \n",
    "def hex_to_bin(x):\n",
    "    return dec_to_bin(hex_to_dec(x))\n",
    "\n",
    "print(dec_to_hex(30))"
   ]
  },
  {
   "cell_type": "markdown",
   "metadata": {},
   "source": [
    "2\\. Write a function that converts a 32 bit word into a single precision floating point (i.e. interprets the various bits as sign, mantissa and exponent)"
   ]
  },
  {
   "cell_type": "code",
   "execution_count": 2,
   "metadata": {},
   "outputs": [
    {
     "data": {
      "text/plain": [
       "1.316553672920962e-36"
      ]
     },
     "execution_count": 2,
     "metadata": {},
     "output_type": "execute_result"
    }
   ],
   "source": [
    "def to_single(x):\n",
    "    x = str(x)\n",
    "    if len(x)!=32:\n",
    "        print(\"Error: not a 32-bit word\")\n",
    "        return 0\n",
    "    sign = (-1)**int(x[0])\n",
    "    exp = bin_to_dec(int(x[1:9]))\n",
    "    mantissa = 1\n",
    "    for i in range(9,32):\n",
    "        mantissa += int(x[i]) * 2**(8-i)\n",
    "\n",
    "    return sign * mantissa * 2**(exp-127)\n",
    "\n",
    "to_single(\"00000011111000000000000000000000\")\n",
    "#to_single(\"11000000101100000000000000000000\")"
   ]
  },
  {
   "cell_type": "markdown",
   "metadata": {},
   "source": [
    "3\\. Write a program to determine the underflow and overflow limits (within a factor of 2) for python on your computer. \n",
    "\n",
    "**Tips**: define two variables inizialized to 1 and halve/double them enough time to exceed the under/over-flow limits  "
   ]
  },
  {
   "cell_type": "code",
   "execution_count": 19,
   "metadata": {},
   "outputs": [
    {
     "name": "stdout",
     "output_type": "stream",
     "text": [
      "5e-324 1075\n"
     ]
    }
   ],
   "source": [
    "underflow = 1\n",
    "underflow_count = 0\n",
    "prev_result = 0\n",
    "\n",
    "while underflow != 0.0:\n",
    "    underflow_limit = prev_result\n",
    "    prev_result = underflow\n",
    "    underflow /= 2\n",
    "    underflow_count += 1\n",
    "\n",
    "print(prev_result, underflow_count)\n",
    "\n",
    "\n",
    "#overflow = 1\n",
    "#overflow_count = 0\n",
    "#while valid:    \n",
    "#    prev_result = overflow\n",
    "#    overflow_count += 1\n",
    "#    overflow *= 2\n",
    "#    if overflow == prev_result:\n",
    "#        valid = False\n",
    "\n",
    "#print(overflow, overflow_count)"
   ]
  },
  {
   "cell_type": "markdown",
   "metadata": {},
   "source": [
    "4\\. Write a program to determine the machine precision\n",
    "\n",
    "**Tips**: define a new variable by adding a smaller and smaller value (proceeding similarly to prob. 2) to an original variable and check the point where the two are the same "
   ]
  },
  {
   "cell_type": "code",
   "execution_count": 68,
   "metadata": {},
   "outputs": [
    {
     "name": "stdout",
     "output_type": "stream",
     "text": [
      "2.220446049250313e-16\n"
     ]
    }
   ],
   "source": [
    "x = 1.0\n",
    "dx = 1.0\n",
    "while (x + dx) != x:\n",
    "    dx /= 2\n",
    "\n",
    "dx *= 2\n",
    "print(dx)"
   ]
  },
  {
   "cell_type": "markdown",
   "metadata": {},
   "source": [
    "5\\. Write a function that takes in input three parameters $a$, $b$ and $c$ and prints out the two solutions to the quadratic equation $ax^2+bx+c=0$ using the standard formula:\n",
    "$$\n",
    "x=\\frac{-b\\pm\\sqrt{b^2-4ac}}{2a}\n",
    "$$\n",
    "\n",
    "(a) use the program to compute the solution for $a=0.001$, $b=1000$ and $c=0.001$\n",
    "\n",
    "(b) re-express the standard solution formula by multiplying top and bottom by $-b\\mp\\sqrt{b^2-4ac}$ and again find the solution for $a=0.001$, $b=1000$ and $c=0.001$. How does it compare with what previously obtained? Why?\n",
    "\n",
    "(c) write a function that compute the roots of a quadratic equation accurately in all cases"
   ]
  },
  {
   "cell_type": "code",
   "execution_count": 6,
   "metadata": {},
   "outputs": [
    {
     "name": "stdout",
     "output_type": "stream",
     "text": [
      "[-9.999894245993346e-07, -999999.999999]\n",
      "[-1.000000000001e-06, -1000010.5755125057]\n",
      "[-1.000000000001e-06, -999999.999999]\n"
     ]
    }
   ],
   "source": [
    "def quad_solutions(a, b, c):\n",
    "    sol = [0,0]\n",
    "    sol[0] = (-1.0 * b + (b**2 - 4.0 * a * c)**0.5) / (2.0 * a) \n",
    "    sol[1] = (-1.0 * b - (b**2 - 4.0 * a * c)**0.5) / (2.0 * a) \n",
    "    return sol\n",
    "\n",
    "def quad_solutions_mult(a, b, c):\n",
    "    sol = [0,0]\n",
    "    sol[0] = (2.0 * c) / (-1.0 * b - (b**2 - 4.0 * a * c)**0.5)\n",
    "    sol[1] = (2.0 * c) / (-1.0 * b + (b**2 - 4.0 * a * c)**0.5)\n",
    "    return sol\n",
    "\n",
    "def quad_solutions_stable(a, b, c):\n",
    "    if b>0: \n",
    "        q = (-0.5 * ( b + (b**2 - 4.0 * a * c)**0.5))\n",
    "    else:\n",
    "        q = (-0.5 * ( b - (b**2 - 4.0 * a * c)**0.5))\n",
    "    \n",
    "    sol = [c/q, q/a]\n",
    "    return sol\n",
    "\n",
    "print(quad_solutions(0.001, 1000, 0.001))\n",
    "print(quad_solutions_mult(0.001, 1000, 0.001))\n",
    "print(quad_solutions_stable(0.001, 1000, 0.001))"
   ]
  },
  {
   "cell_type": "markdown",
   "metadata": {},
   "source": [
    "6\\. Write a program that implements the function $f(x)=x(x−1)$\n",
    "\n",
    "(a) Calculate the derivative of the function at the point $x = 1$ using the derivative definition:\n",
    "\n",
    "$$\n",
    "\\frac{{\\rm d}f}{{\\rm d}x} = \\lim_{\\delta\\to0} \\frac{f(x+\\delta)-f(x)}{\\delta}\n",
    "$$\n",
    "\n",
    "with $\\delta = 10^{−2}$. Calculate the true value of the same derivative analytically and compare with the answer your program gives. The two will not agree perfectly. Why not?\n",
    "\n",
    "(b) Repeat the calculation for $\\delta = 10^{−4}, 10^{−6}, 10^{−8}, 10^{−10}, 10^{−12}$ and $10^{−14}$. How does the accuracy scales with $\\delta$?"
   ]
  },
  {
   "cell_type": "code",
   "execution_count": 7,
   "metadata": {},
   "outputs": [
    {
     "name": "stdout",
     "output_type": "stream",
     "text": [
      "1.010000000000001\n",
      "1.0000999999998899\n",
      "1.0000009999177333\n",
      "1.0000000039225287\n",
      "1.000000082840371\n",
      "1.0000889005833413\n",
      "0.9992007221626509\n"
     ]
    }
   ],
   "source": [
    "def function(x):\n",
    "    return x * (x - 1)\n",
    "\n",
    "def derivate(point, step):\n",
    "    return ((function(point + step) - function(point)) / step)\n",
    "\n",
    "print(derivate(1, 10**-2))\n",
    "print(derivate(1, 10**-4))\n",
    "print(derivate(1, 10**-6))\n",
    "print(derivate(1, 10**-8))\n",
    "print(derivate(1, 10**-10))\n",
    "print(derivate(1, 10**-12))\n",
    "print(derivate(1, 10**-14))"
   ]
  },
  {
   "cell_type": "markdown",
   "metadata": {},
   "source": [
    "7\\. Consider the integral of the semicircle of radius 1:\n",
    "$$\n",
    "I=\\int_{-1}^{1} \\sqrt(1-x^2) {\\rm d}x\n",
    "$$\n",
    "which it's known to be $I=\\frac{\\pi}{2}=1.57079632679...$.\n",
    "Alternatively we can use the Riemann definition of the integral:\n",
    "$$\n",
    "I=\\lim_{N\\to\\infty} \\sum_{k=1}^{N} h y_k \n",
    "$$\n",
    "\n",
    "with $h=2/N$ the width of each of the $N$ slices the domain is divided into and where\n",
    "$y_k$ is the value of the function at the $k-$th slice.\n",
    "\n",
    "(a) Write a programe to compute the integral with $N=100$. How does the result compares to the true value?\n",
    "\n",
    "(b) How much can $N$ be increased if the computation needs to be run in less than a second? What is the gain in running it for 1 minute? \n"
   ]
  },
  {
   "cell_type": "code",
   "execution_count": 67,
   "metadata": {},
   "outputs": [
    {
     "name": "stdout",
     "output_type": "stream",
     "text": [
      "100 STEPS\n",
      "34.3 µs ± 3.65 µs per loop (mean ± std. dev. of 7 runs, 10,000 loops each)\n",
      "Result:  1.5691342555492505\n",
      "Pi/2 - R:  0.0016620712456461018\n",
      "R / Pi/2:  99.89418925819382 %\n",
      "\n",
      "2918021  STEPS\n",
      "1.79 s ± 648 ms per loop (mean ± std. dev. of 7 runs, 1 loop each)\n",
      "Result:  1.5707963264612006\n",
      "Pi/2 - R:  3.336959597532996e-10\n",
      "R / Pi/2:  99.99999997875625 %\n",
      "\n",
      "175081293  STEPS\n",
      "48 s ± 5.52 s per loop (mean ± std. dev. of 7 runs, 1 loop each)\n",
      "Result:  1.5707963267947314\n",
      "Pi/2 - R:  1.652011860642233e-13\n",
      "R / Pi/2:  99.9999999999895 %\n",
      "\n"
     ]
    }
   ],
   "source": [
    "from math import pi\n",
    "\n",
    "def function(x):\n",
    "    return (1 - x**2)**0.5\n",
    "\n",
    "def riemann_integral(slices, domain):\n",
    "    I = 0\n",
    "    h = (domain[1] - domain[0]) / slices\n",
    "    for i in range(slices):\n",
    "        I += h * function(domain[0] + h * i)\n",
    "    return I\n",
    "\n",
    "print(\"100 STEPS\")\n",
    "timeresult = %timeit -o riemann_integral(100, [-1,1])\n",
    "r = riemann_integral(100, [-1,1])\n",
    "print(\"Result: \", r)\n",
    "print(\"Pi/2 - R: \", pi/2.0 - r)\n",
    "print(\"R / Pi/2: \", 100.0 * r / (pi/2.0), \"%\\n\")\n",
    "\n",
    "N1 = int(100 / timeresult.average)\n",
    "print(N1, \" STEPS\")\n",
    "%timeit riemann_integral(N1, [-1,1])\n",
    "r1 = riemann_integral(N1, [-1,1])\n",
    "print(\"Result: \", r1)\n",
    "print(\"Pi/2 - R: \", pi/2.0 - r1)\n",
    "print(\"R / Pi/2: \", 100.0 * r1 / (pi/2.0), \"%\\n\")\n",
    "\n",
    "N2 = int(6000 / timeresult.average)\n",
    "print(N2, \" STEPS\")\n",
    "%timeit riemann_integral(N2, [-1,1])\n",
    "r2 = riemann_integral(N2, [-1,1])\n",
    "print(\"Result: \", r2)\n",
    "print(\"Pi/2 - R: \", pi/2.0 - r2)\n",
    "print(\"R / Pi/2: \", 100.0 * r2 / (pi/2.0), \"%\\n\")"
   ]
  }
 ],
 "metadata": {
  "kernelspec": {
   "display_name": "Python 3 (ipykernel)",
   "language": "python",
   "name": "python3"
  },
  "language_info": {
   "codemirror_mode": {
    "name": "ipython",
    "version": 3
   },
   "file_extension": ".py",
   "mimetype": "text/x-python",
   "name": "python",
   "nbconvert_exporter": "python",
   "pygments_lexer": "ipython3",
   "version": "3.12.11"
  }
 },
 "nbformat": 4,
 "nbformat_minor": 4
}
